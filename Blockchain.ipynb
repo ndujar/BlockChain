{
 "cells": [
  {
   "cell_type": "markdown",
   "metadata": {},
   "source": [
    "## Representing a Blockchain\n",
    "Code adapted from:https://hackernoon.com/learn-blockchains-by-building-one-117428612f46\n"
    "We’ll create a Blockchain class whose constructor creates an initial empty list (to store our blockchain), and another to store transactions. Here’s the blueprint for our class:"
   ]
  },
  {
   "cell_type": "code",
   "execution_count": 1,
   "metadata": {},
   "outputs": [],
   "source": [
    "import hashlib\n",
    "import json\n",
    "from time import time\n",
    "from uuid import uuid4\n",
    "\n",
    "from urllib.parse import urlparse\n",
    "import requests\n",
    "\n",
    "from flask import Flask, jsonify, request"
   ]
  },
  {
   "cell_type": "code",
   "execution_count": 2,
   "metadata": {},
   "outputs": [],
   "source": [
    "current_transactions = []\n",
    "chain = []"
   ]
  },
  {
   "cell_type": "code",
   "execution_count": 3,
   "metadata": {
    "scrolled": false
   },
   "outputs": [],
   "source": [
    "def new_block(proof, previous_hash=None):\n",
    "    \"\"\"\n",
    "    Create a new Block in the Blockchain\n",
    "    :param proof: <int> The proof given by the Proof of Work algorithm\n",
    "    :param previous_hash: (Optional) <str> Hash of previous Block\n",
    "    :return: <dict> New Block\n",
    "    \"\"\"\n",
    "\n",
    "    block = {\n",
    "        'index': len(chain) + 1,\n",
    "        'timestamp': time(),\n",
    "        'transactions': current_transactions,\n",
    "        'proof': proof,\n",
    "        'previous_hash': previous_hash or hash(chain[-1]),\n",
    "    }\n",
    "\n",
    "    # Reset the current list of transactions\n",
    "#     current_transactions = []\n",
    "\n",
    "    chain.append(block)\n",
    "    return block\n",
    "\n",
    "def new_transaction(sender, recipient, amount):\n",
    "    \"\"\"\n",
    "    Creates a new transaction to go into the next mined Block\n",
    "    :param sender: <str> Address of the Sender\n",
    "    :param recipient: <str> Address of the Recipient\n",
    "    :param amount: <int> Amount\n",
    "    :return: <int> The index of the Block that will hold this transaction\n",
    "    \"\"\"\n",
    "    current_transactions.append({\n",
    "        'sender': sender,\n",
    "        'recipient': recipient,\n",
    "        'amount': amount,\n",
    "    })\n",
    "    return last_block()['index'] + 1\n",
    "\n",
    "\n",
    "def last_block():\n",
    "    return chain[-1]\n",
    "\n",
    "def hash(block):\n",
    "    \"\"\"\n",
    "    Creates a SHA-256 hash of a Block\n",
    "    :param block: <dict> Block\n",
    "    :return: <str>\n",
    "    \"\"\"\n",
    "\n",
    "    # We must make sure that the Dictionary is Ordered, or we'll have inconsistent hashes\n",
    "    block_string = json.dumps(block, sort_keys=True).encode()\n",
    "    return hashlib.sha256(block_string).hexdigest()\n",
    "\n",
    "def proof_of_work(last_block):\n",
    "    \"\"\"\n",
    "    Simple Proof of Work Algorithm:\n",
    "     - Find a number p' such that hash(pp') contains leading 4 zeroes, where p is the previous p'\n",
    "     - p is the previous proof, and p' is the new proof\n",
    "    :param last_proof: <int>\n",
    "    :return: <int>\n",
    "    \"\"\"\n",
    "\n",
    "    \n",
    "\n",
    "    last_proof = last_block['proof']\n",
    "    last_hash = hash(last_block)\n",
    "\n",
    "    proof = 0\n",
    "    while valid_proof(last_proof, proof, last_hash) is False:\n",
    "        proof += 1\n",
    "\n",
    "    return proof\n",
    "\n",
    "def valid_proof(last_proof, proof, last_hash):\n",
    "    \n",
    "    guess = str(last_proof) + str(proof) + str(last_hash)\n",
    "    guess = guess.encode()\n",
    "    guess_hash = hashlib.sha256(guess).hexdigest()\n",
    "    return guess_hash[:4] == \"0000\"\n",
    "    "
   ]
  },
  {
   "cell_type": "code",
   "execution_count": 4,
   "metadata": {},
   "outputs": [],
   "source": [
    "# Create the genesis block\n",
    "#current_transactions = []"
   ]
  },
  {
   "cell_type": "code",
   "execution_count": 5,
   "metadata": {},
   "outputs": [],
   "source": [
    "# Instantiate our Node\n",
    "app = Flask(__name__)\n",
    "\n",
    "# Generate a globally unique address for this node\n",
    "node_identifier = str(uuid4()).replace('-', '')\n",
    "\n",
    "@app.route('/chain', methods=['GET'])\n",
    "def full_chain():\n",
    "    response = {\n",
    "        'chain': chain,\n",
    "        'length': len(chain),\n",
    "    }\n",
    "    return jsonify(response), 200\n",
    "\n",
    "@app.route('/transactions/new', methods=['POST'])\n",
    "def new_transact():\n",
    "    values = request.get_json()\n",
    "\n",
    "    # Check that the required fields are in the POST'ed data\n",
    "    required = ['sender', 'recipient', 'amount']\n",
    "    if not all(k in values for k in required):\n",
    "        return 'Missing values', 400\n",
    "\n",
    "    # Create a new Transaction\n",
    "    index = new_transaction(values['sender'], values['recipient'], values['amount'])\n",
    "\n",
    "    response = {'message': 'Transaction will be added to Block', str(index)}\n",
    "    return jsonify(response), 201\n",
    "\n",
    "@app.route('/mine', methods=['GET'])\n",
    "def mine():\n",
    "    # We run the proof of work algorithm to get the next proof...\n",
    "    last_blk = last_block()\n",
    "    proof = proof_of_work(last_blk)\n",
    "    return 'mining'\n",
    "    # We must receive a reward for finding the proof.\n",
    "    # The sender is \"0\" to signify that this node has mined a new coin.\n",
    "    new_transaction(\n",
    "        sender=\"0\",\n",
    "        recipient=node_identifier,\n",
    "        amount=1,\n",
    "    )\n",
    "\n",
    "    # Forge the new Block by adding it to the chain\n",
    "    previous_hash = hash(last_blk)\n",
    "    block = new_block(proof, previous_hash)\n",
    "\n",
    "    response = {\n",
    "        'message': \"New Block Forged\",\n",
    "        'index': block['index'],\n",
    "        'transactions': block['transactions'],\n",
    "        'proof': block['proof'],\n",
    "        'previous_hash': block['previous_hash'],\n",
    "    }\n",
    "    return jsonify(response), 200"
   ]
  },
  {
   "cell_type": "code",
   "execution_count": 6,
   "metadata": {},
   "outputs": [
    {
     "name": "stderr",
     "output_type": "stream",
     "text": [
      " * Running on http://0.0.0.0:5000/ (Press CTRL+C to quit)\n",
      "127.0.0.1 - - [06/Mar/2018 01:27:34] \"POST /transactions/new HTTP/1.1\" 201 -\n",
      "127.0.0.1 - - [06/Mar/2018 01:28:01] \"GET /chain HTTP/1.1\" 200 -\n",
      "127.0.0.1 - - [06/Mar/2018 01:28:25] \"GET /mine HTTP/1.1\" 200 -\n",
      "127.0.0.1 - - [06/Mar/2018 01:28:31] \"GET /chain HTTP/1.1\" 200 -\n",
      "127.0.0.1 - - [06/Mar/2018 01:28:53] \"POST /transactions/new HTTP/1.1\" 201 -\n",
      "127.0.0.1 - - [06/Mar/2018 01:28:59] \"GET /chain HTTP/1.1\" 200 -\n",
      "127.0.0.1 - - [06/Mar/2018 01:29:18] \"POST /transactions/new HTTP/1.1\" 201 -\n",
      "127.0.0.1 - - [06/Mar/2018 01:29:21] \"GET /chain HTTP/1.1\" 200 -\n",
      "127.0.0.1 - - [06/Mar/2018 01:31:54] \"GET /mine HTTP/1.1\" 200 -\n",
      "127.0.0.1 - - [06/Mar/2018 01:32:04] \"GET /chain HTTP/1.1\" 200 -\n",
      "127.0.0.1 - - [06/Mar/2018 01:33:41] \"POST /transactions/new HTTP/1.1\" 201 -\n",
      "127.0.0.1 - - [06/Mar/2018 01:33:48] \"GET /chain HTTP/1.1\" 200 -\n"
     ]
    }
   ],
   "source": [
    "new_block(previous_hash=1, proof=100)\n",
    "\n",
    "app.run(host='0.0.0.0', port=5000)\n"
   ]
  },
  {
   "cell_type": "code",
   "execution_count": null,
   "metadata": {},
   "outputs": [],
   "source": []
  }
 ],
 "metadata": {
  "kernelspec": {
   "display_name": "Python 3",
   "language": "python",
   "name": "python3"
  },
  "language_info": {
   "codemirror_mode": {
    "name": "ipython",
    "version": 3
   },
   "file_extension": ".py",
   "mimetype": "text/x-python",
   "name": "python",
   "nbconvert_exporter": "python",
   "pygments_lexer": "ipython3",
   "version": "3.5.4"
  }
 },
 "nbformat": 4,
 "nbformat_minor": 2
}
